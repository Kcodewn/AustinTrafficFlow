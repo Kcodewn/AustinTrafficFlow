{
 "cells": [
  {
   "cell_type": "code",
   "execution_count": null,
   "metadata": {},
   "outputs": [],
   "source": [
    "# Load raw data\n",
    "import pandas as pd\n",
    "df = pd.read_json('../data/raw/raw_traffic.json', lines=True)\n",
    "\n",
    "# Run preprocessing functions (imported or copied into notebook for ease)\n",
    "# Analyze the distributions, missing values, etc.\n"
   ]
  }
 ],
 "metadata": {
  "kernelspec": {
   "display_name": "base",
   "language": "python",
   "name": "python3"
  },
  "language_info": {
   "name": "python",
   "version": "3.12.7"
  }
 },
 "nbformat": 4,
 "nbformat_minor": 2
}
